{
 "cells": [
  {
   "cell_type": "code",
   "execution_count": 1,
   "id": "12a4ab75-42f0-4a10-8c15-5535e2983455",
   "metadata": {
    "tags": []
   },
   "outputs": [],
   "source": [
    "#Data\n",
    "revenue <- c(14574.49, 7606.46, 8611.41, 9175.41, 8058.65, 8105.44, 11496.28, 9766.09, 10305.32, 14379.96, 10713.97, 15433.50)\n",
    "expenses <- c(12051.82, 5695.07, 12319.20, 12089.72, 8658.57, 840.20, 3285.73, 5821.12, 6976.93, 16618.61, 10054.37, 3803.96)\n",
    "\n"
   ]
  },
  {
   "cell_type": "code",
   "execution_count": 3,
   "id": "c0e98996-2a83-4044-bd3a-de6fe0a3dd0a",
   "metadata": {
    "tags": []
   },
   "outputs": [
    {
     "data": {
      "text/html": [
       "<style>\n",
       ".list-inline {list-style: none; margin:0; padding: 0}\n",
       ".list-inline>li {display: inline-block}\n",
       ".list-inline>li:not(:last-child)::after {content: \"\\00b7\"; padding: 0 .5ex}\n",
       "</style>\n",
       "<ol class=list-inline><li>2522.67</li><li>1911.39</li><li>-3707.79</li><li>-2914.31</li><li>-599.92</li><li>7265.24</li><li>8210.55</li><li>3944.97</li><li>3328.39</li><li>-2238.65</li><li>659.599999999999</li><li>11629.54</li></ol>\n"
      ],
      "text/latex": [
       "\\begin{enumerate*}\n",
       "\\item 2522.67\n",
       "\\item 1911.39\n",
       "\\item -3707.79\n",
       "\\item -2914.31\n",
       "\\item -599.92\n",
       "\\item 7265.24\n",
       "\\item 8210.55\n",
       "\\item 3944.97\n",
       "\\item 3328.39\n",
       "\\item -2238.65\n",
       "\\item 659.599999999999\n",
       "\\item 11629.54\n",
       "\\end{enumerate*}\n"
      ],
      "text/markdown": [
       "1. 2522.67\n",
       "2. 1911.39\n",
       "3. -3707.79\n",
       "4. -2914.31\n",
       "5. -599.92\n",
       "6. 7265.24\n",
       "7. 8210.55\n",
       "8. 3944.97\n",
       "9. 3328.39\n",
       "10. -2238.65\n",
       "11. 659.599999999999\n",
       "12. 11629.54\n",
       "\n",
       "\n"
      ],
      "text/plain": [
       " [1]  2522.67  1911.39 -3707.79 -2914.31  -599.92  7265.24  8210.55  3944.97\n",
       " [9]  3328.39 -2238.65   659.60 11629.54"
      ]
     },
     "metadata": {},
     "output_type": "display_data"
    }
   ],
   "source": [
    "#Solution\n",
    "#Calculate Profit As The Differences Between Revenue And Expenses\n",
    "profit <- revenue - expenses\n",
    "profit\n",
    "\n"
   ]
  },
  {
   "cell_type": "code",
   "execution_count": 4,
   "id": "3e35b954-2e9c-48bf-9f5f-765d1b290c2f",
   "metadata": {
    "tags": []
   },
   "outputs": [
    {
     "data": {
      "text/html": [
       "<style>\n",
       ".list-inline {list-style: none; margin:0; padding: 0}\n",
       ".list-inline>li {display: inline-block}\n",
       ".list-inline>li:not(:last-child)::after {content: \"\\00b7\"; padding: 0 .5ex}\n",
       "</style>\n",
       "<ol class=list-inline><li>756.8</li><li>573.42</li><li>-1112.34</li><li>-874.29</li><li>-179.98</li><li>2179.57</li><li>2463.17</li><li>1183.49</li><li>998.52</li><li>-671.6</li><li>197.88</li><li>3488.86</li></ol>\n"
      ],
      "text/latex": [
       "\\begin{enumerate*}\n",
       "\\item 756.8\n",
       "\\item 573.42\n",
       "\\item -1112.34\n",
       "\\item -874.29\n",
       "\\item -179.98\n",
       "\\item 2179.57\n",
       "\\item 2463.17\n",
       "\\item 1183.49\n",
       "\\item 998.52\n",
       "\\item -671.6\n",
       "\\item 197.88\n",
       "\\item 3488.86\n",
       "\\end{enumerate*}\n"
      ],
      "text/markdown": [
       "1. 756.8\n",
       "2. 573.42\n",
       "3. -1112.34\n",
       "4. -874.29\n",
       "5. -179.98\n",
       "6. 2179.57\n",
       "7. 2463.17\n",
       "8. 1183.49\n",
       "9. 998.52\n",
       "10. -671.6\n",
       "11. 197.88\n",
       "12. 3488.86\n",
       "\n",
       "\n"
      ],
      "text/plain": [
       " [1]   756.80   573.42 -1112.34  -874.29  -179.98  2179.57  2463.17  1183.49\n",
       " [9]   998.52  -671.60   197.88  3488.86"
      ]
     },
     "metadata": {},
     "output_type": "display_data"
    }
   ],
   "source": [
    "#Calculate Tax As 30% Of Profit And Round To 2 Decimal Points\n",
    "tax <- round(0.30 * profit, 2)\n",
    "tax \n",
    "\n"
   ]
  },
  {
   "cell_type": "code",
   "execution_count": 5,
   "id": "acaaf3c7-a177-4fc3-951c-93ce3e3a7cdb",
   "metadata": {
    "tags": []
   },
   "outputs": [
    {
     "data": {
      "text/html": [
       "<style>\n",
       ".list-inline {list-style: none; margin:0; padding: 0}\n",
       ".list-inline>li {display: inline-block}\n",
       ".list-inline>li:not(:last-child)::after {content: \"\\00b7\"; padding: 0 .5ex}\n",
       "</style>\n",
       "<ol class=list-inline><li>1765.87</li><li>1337.97</li><li>-2595.45</li><li>-2040.02</li><li>-419.94</li><li>5085.67</li><li>5747.38</li><li>2761.48</li><li>2329.87</li><li>-1567.05</li><li>461.719999999999</li><li>8140.68</li></ol>\n"
      ],
      "text/latex": [
       "\\begin{enumerate*}\n",
       "\\item 1765.87\n",
       "\\item 1337.97\n",
       "\\item -2595.45\n",
       "\\item -2040.02\n",
       "\\item -419.94\n",
       "\\item 5085.67\n",
       "\\item 5747.38\n",
       "\\item 2761.48\n",
       "\\item 2329.87\n",
       "\\item -1567.05\n",
       "\\item 461.719999999999\n",
       "\\item 8140.68\n",
       "\\end{enumerate*}\n"
      ],
      "text/markdown": [
       "1. 1765.87\n",
       "2. 1337.97\n",
       "3. -2595.45\n",
       "4. -2040.02\n",
       "5. -419.94\n",
       "6. 5085.67\n",
       "7. 5747.38\n",
       "8. 2761.48\n",
       "9. 2329.87\n",
       "10. -1567.05\n",
       "11. 461.719999999999\n",
       "12. 8140.68\n",
       "\n",
       "\n"
      ],
      "text/plain": [
       " [1]  1765.87  1337.97 -2595.45 -2040.02  -419.94  5085.67  5747.38  2761.48\n",
       " [9]  2329.87 -1567.05   461.72  8140.68"
      ]
     },
     "metadata": {},
     "output_type": "display_data"
    }
   ],
   "source": [
    "#Calculate Profit Remaining After Tax Is Deducted\n",
    "profit.after.tax <- profit - tax\n",
    "profit.after.tax\n",
    "\n"
   ]
  },
  {
   "cell_type": "code",
   "execution_count": 6,
   "id": "943a45aa-43e5-4e79-871a-e782d3c4b1e4",
   "metadata": {
    "tags": []
   },
   "outputs": [
    {
     "data": {
      "text/html": [
       "<style>\n",
       ".list-inline {list-style: none; margin:0; padding: 0}\n",
       ".list-inline>li {display: inline-block}\n",
       ".list-inline>li:not(:last-child)::after {content: \"\\00b7\"; padding: 0 .5ex}\n",
       "</style>\n",
       "<ol class=list-inline><li>12</li><li>18</li><li>-30</li><li>-22</li><li>-5</li><li>63</li><li>50</li><li>28</li><li>23</li><li>-11</li><li>4</li><li>53</li></ol>\n"
      ],
      "text/latex": [
       "\\begin{enumerate*}\n",
       "\\item 12\n",
       "\\item 18\n",
       "\\item -30\n",
       "\\item -22\n",
       "\\item -5\n",
       "\\item 63\n",
       "\\item 50\n",
       "\\item 28\n",
       "\\item 23\n",
       "\\item -11\n",
       "\\item 4\n",
       "\\item 53\n",
       "\\end{enumerate*}\n"
      ],
      "text/markdown": [
       "1. 12\n",
       "2. 18\n",
       "3. -30\n",
       "4. -22\n",
       "5. -5\n",
       "6. 63\n",
       "7. 50\n",
       "8. 28\n",
       "9. 23\n",
       "10. -11\n",
       "11. 4\n",
       "12. 53\n",
       "\n",
       "\n"
      ],
      "text/plain": [
       " [1]  12  18 -30 -22  -5  63  50  28  23 -11   4  53"
      ]
     },
     "metadata": {},
     "output_type": "display_data"
    }
   ],
   "source": [
    "#Calculate The Profit Margin As Profit After Tax Over Revenue\n",
    "#Round To 2 Decimal Points, Then Multiply By 100 To Get %\n",
    "profit.margin <- round( profit.after.tax/ revenue, 2) * 100\n",
    "profit.margin\n",
    "\n"
   ]
  },
  {
   "cell_type": "code",
   "execution_count": 7,
   "id": "382e91c8-daec-4c7e-bd6e-f70e67cb1764",
   "metadata": {
    "tags": []
   },
   "outputs": [
    {
     "data": {
      "text/html": [
       "1750.68166666667"
      ],
      "text/latex": [
       "1750.68166666667"
      ],
      "text/markdown": [
       "1750.68166666667"
      ],
      "text/plain": [
       "[1] 1750.682"
      ]
     },
     "metadata": {},
     "output_type": "display_data"
    }
   ],
   "source": [
    "#Calculate The Mean Profit After Tax For The 12 Months\n",
    "mean_pat <- mean(profit.after.tax)\n",
    "mean_pat\n",
    "\n"
   ]
  },
  {
   "cell_type": "code",
   "execution_count": null,
   "id": "fbe44750-27b0-4286-8b20-9c9792e2e2a8",
   "metadata": {},
   "outputs": [],
   "source": [
    "#Find The Months With Above-Mean Profit After Tax\n",
    "good.months <- _ _ mean_pat\n",
    "good.months\n",
    "\n"
   ]
  },
  {
   "cell_type": "code",
   "execution_count": null,
   "id": "a8ac1159-e99c-4855-835f-8b2e7db6026e",
   "metadata": {},
   "outputs": [],
   "source": [
    "#Bad Months Are The Opposite Of Good Months !\n",
    "bad.months <- _good.months\n",
    "bad.months\n",
    "\n"
   ]
  },
  {
   "cell_type": "code",
   "execution_count": null,
   "id": "9f43245b-2038-478c-9811-89d05606130d",
   "metadata": {},
   "outputs": [],
   "source": [
    "#The Best Month Is Where Profit After Tax Was Equal To The Maximum\n",
    "best.month <- profit.after.tax == _(profit.after.tax)\n",
    "best.month\n",
    "\n"
   ]
  },
  {
   "cell_type": "code",
   "execution_count": null,
   "id": "46b82c7a-f169-4efd-8e76-15e3994e0b3e",
   "metadata": {},
   "outputs": [],
   "source": [
    "#The Worst Month Is Where Profit After Tax Was Equal To The Minimum\n",
    "worst.month <- _ == _(_)\n",
    "worst.month\n",
    "\n"
   ]
  },
  {
   "cell_type": "code",
   "execution_count": null,
   "id": "adb26a6a-35df-4d83-bfcd-7e42a85da303",
   "metadata": {},
   "outputs": [],
   "source": [
    "#Convert All Calculations To Units Of One Thousand Dollars\n",
    "revenue.1000 <- round(revenue / 1000, 0)\n",
    "expenses.1000 <- _(_ _ _, _)\n",
    "profit.1000 <- _(_ _ _, _)\n",
    "profit.after.tax.1000 <- _(_ _ _, _)\n",
    "\n"
   ]
  },
  {
   "cell_type": "code",
   "execution_count": null,
   "id": "02e8e9fd-34d7-44dc-bd5f-8e70cf76266c",
   "metadata": {},
   "outputs": [],
   "source": [
    "#Print Results\n",
    "revenue.1000\n",
    "expenses.1000\n",
    "profit.1000\n",
    "profit.after.tax.1000\n",
    "profit.margin\n",
    "good.months\n",
    "bad.months\n",
    "best.month\n",
    "worst.month\n",
    "\n"
   ]
  },
  {
   "cell_type": "code",
   "execution_count": null,
   "id": "fdfe8b86-fbb6-40d4-b1c4-479175142b78",
   "metadata": {},
   "outputs": [],
   "source": [
    "#BONUS:\n",
    "#Preview Of What's Coming In The Next Section\n",
    "M <- rbind(\n",
    "  revenue.1000,\n",
    "  expenses.1000,\n",
    "  profit.1000,\n",
    "  profit.after.tax.1000,\n",
    "  profit.margin,\n",
    "  good.months,\n",
    "  bad.months,\n",
    "  best.month,\n",
    "  worst.month\n",
    ")\n",
    "\n",
    "#Print The Matrix\n",
    "_\n",
    "\n"
   ]
  },
  {
   "cell_type": "code",
   "execution_count": null,
   "id": "5f2fd80a-93d2-4fcd-86c1-66f5ece6591a",
   "metadata": {},
   "outputs": [],
   "source": []
  },
  {
   "cell_type": "code",
   "execution_count": null,
   "id": "f5cb122f-1734-4848-bfb9-ed6c3cf01d15",
   "metadata": {},
   "outputs": [],
   "source": []
  },
  {
   "cell_type": "code",
   "execution_count": null,
   "id": "827dbfa6-cc7b-4da8-921d-6cf8faccc964",
   "metadata": {},
   "outputs": [],
   "source": []
  }
 ],
 "metadata": {
  "kernelspec": {
   "display_name": "R",
   "language": "R",
   "name": "ir"
  },
  "language_info": {
   "codemirror_mode": "r",
   "file_extension": ".r",
   "mimetype": "text/x-r-source",
   "name": "R",
   "pygments_lexer": "r",
   "version": "4.2.3"
  }
 },
 "nbformat": 4,
 "nbformat_minor": 5
}
